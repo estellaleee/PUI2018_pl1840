{
 "cells": [
  {
   "cell_type": "code",
   "execution_count": 70,
   "metadata": {},
   "outputs": [],
   "source": [
    "from __future__ import print_function"
   ]
  },
  {
   "cell_type": "code",
   "execution_count": 71,
   "metadata": {},
   "outputs": [
    {
     "name": "stdout",
     "output_type": "stream",
     "text": [
      "  % Total    % Received % Xferd  Average Speed   Time    Time     Time  Current\n",
      "                                 Dload  Upload   Total   Spent    Left  Speed\n",
      "100 20.4M    0 20.4M    0     0   783k      0 --:--:--  0:00:26 --:--:--  839k39k    0     0   634k      0 --:--:--  0:00:02 --:--:--  634k\n"
     ]
    }
   ],
   "source": [
    "!curl https://data.cityofnewyork.us/api/views/46g3-savk/rows.csv?accessType=DOWNLOAD > school.csv"
   ]
  },
  {
   "cell_type": "code",
   "execution_count": 72,
   "metadata": {},
   "outputs": [
    {
     "name": "stdout",
     "output_type": "stream",
     "text": [
      "PUIdata /nfshome/pl1840/PUIdata\n"
     ]
    }
   ],
   "source": [
    "import os\n",
    "print(\"PUIdata\", os.getenv(\"PUIDATA\"))"
   ]
  },
  {
   "cell_type": "code",
   "execution_count": 73,
   "metadata": {},
   "outputs": [],
   "source": [
    "!mv school.csv $PUIDATA"
   ]
  },
  {
   "cell_type": "code",
   "execution_count": 74,
   "metadata": {},
   "outputs": [
    {
     "name": "stdout",
     "output_type": "stream",
     "text": [
      "income.csv  school.csv\r\n"
     ]
    }
   ],
   "source": [
    "!ls $PUIDATA"
   ]
  },
  {
   "cell_type": "code",
   "execution_count": 75,
   "metadata": {},
   "outputs": [],
   "source": [
    "import pandas as pd\n",
    "school = pd.read_csv(\"%s/school.csv\"%os.getenv(\"PUIDATA\"))"
   ]
  },
  {
   "cell_type": "code",
   "execution_count": 76,
   "metadata": {},
   "outputs": [
    {
     "data": {
      "text/html": [
       "<div>\n",
       "<table border=\"1\" class=\"dataframe\">\n",
       "  <thead>\n",
       "    <tr style=\"text-align: right;\">\n",
       "      <th></th>\n",
       "      <th>School</th>\n",
       "      <th>Date</th>\n",
       "      <th>SchoolYear</th>\n",
       "      <th>Enrolled</th>\n",
       "      <th>Present</th>\n",
       "      <th>Absent</th>\n",
       "      <th>Released</th>\n",
       "    </tr>\n",
       "  </thead>\n",
       "  <tbody>\n",
       "    <tr>\n",
       "      <th>0</th>\n",
       "      <td>01M015</td>\n",
       "      <td>20150909</td>\n",
       "      <td>20152016</td>\n",
       "      <td>177</td>\n",
       "      <td>159</td>\n",
       "      <td>18</td>\n",
       "      <td>0</td>\n",
       "    </tr>\n",
       "    <tr>\n",
       "      <th>1</th>\n",
       "      <td>01M015</td>\n",
       "      <td>20150910</td>\n",
       "      <td>20152016</td>\n",
       "      <td>173</td>\n",
       "      <td>159</td>\n",
       "      <td>14</td>\n",
       "      <td>0</td>\n",
       "    </tr>\n",
       "    <tr>\n",
       "      <th>2</th>\n",
       "      <td>01M015</td>\n",
       "      <td>20150911</td>\n",
       "      <td>20152016</td>\n",
       "      <td>174</td>\n",
       "      <td>164</td>\n",
       "      <td>10</td>\n",
       "      <td>0</td>\n",
       "    </tr>\n",
       "    <tr>\n",
       "      <th>3</th>\n",
       "      <td>01M015</td>\n",
       "      <td>20150916</td>\n",
       "      <td>20152016</td>\n",
       "      <td>172</td>\n",
       "      <td>159</td>\n",
       "      <td>13</td>\n",
       "      <td>0</td>\n",
       "    </tr>\n",
       "    <tr>\n",
       "      <th>4</th>\n",
       "      <td>01M015</td>\n",
       "      <td>20150917</td>\n",
       "      <td>20152016</td>\n",
       "      <td>172</td>\n",
       "      <td>165</td>\n",
       "      <td>7</td>\n",
       "      <td>0</td>\n",
       "    </tr>\n",
       "    <tr>\n",
       "      <th>5</th>\n",
       "      <td>01M015</td>\n",
       "      <td>20150918</td>\n",
       "      <td>20152016</td>\n",
       "      <td>172</td>\n",
       "      <td>161</td>\n",
       "      <td>11</td>\n",
       "      <td>0</td>\n",
       "    </tr>\n",
       "    <tr>\n",
       "      <th>6</th>\n",
       "      <td>01M015</td>\n",
       "      <td>20150921</td>\n",
       "      <td>20152016</td>\n",
       "      <td>172</td>\n",
       "      <td>160</td>\n",
       "      <td>12</td>\n",
       "      <td>0</td>\n",
       "    </tr>\n",
       "    <tr>\n",
       "      <th>7</th>\n",
       "      <td>01M015</td>\n",
       "      <td>20150922</td>\n",
       "      <td>20152016</td>\n",
       "      <td>172</td>\n",
       "      <td>164</td>\n",
       "      <td>8</td>\n",
       "      <td>0</td>\n",
       "    </tr>\n",
       "  </tbody>\n",
       "</table>\n",
       "</div>"
      ],
      "text/plain": [
       "   School      Date  SchoolYear  Enrolled  Present  Absent  Released\n",
       "0  01M015  20150909    20152016       177      159      18         0\n",
       "1  01M015  20150910    20152016       173      159      14         0\n",
       "2  01M015  20150911    20152016       174      164      10         0\n",
       "3  01M015  20150916    20152016       172      159      13         0\n",
       "4  01M015  20150917    20152016       172      165       7         0\n",
       "5  01M015  20150918    20152016       172      161      11         0\n",
       "6  01M015  20150921    20152016       172      160      12         0\n",
       "7  01M015  20150922    20152016       172      164       8         0"
      ]
     },
     "execution_count": 76,
     "metadata": {},
     "output_type": "execute_result"
    }
   ],
   "source": [
    "school.head(8)"
   ]
  },
  {
   "cell_type": "code",
   "execution_count": 77,
   "metadata": {},
   "outputs": [
    {
     "data": {
      "text/html": [
       "<div>\n",
       "<table border=\"1\" class=\"dataframe\">\n",
       "  <thead>\n",
       "    <tr style=\"text-align: right;\">\n",
       "      <th></th>\n",
       "      <th>School</th>\n",
       "      <th>Date</th>\n",
       "      <th>SchoolYear</th>\n",
       "      <th>Enrolled</th>\n",
       "      <th>Present</th>\n",
       "      <th>Absent</th>\n",
       "      <th>Released</th>\n",
       "    </tr>\n",
       "  </thead>\n",
       "  <tbody>\n",
       "    <tr>\n",
       "      <th>561696</th>\n",
       "      <td>79X695</td>\n",
       "      <td>20170623</td>\n",
       "      <td>20162017</td>\n",
       "      <td>281</td>\n",
       "      <td>120</td>\n",
       "      <td>38</td>\n",
       "      <td>123</td>\n",
       "    </tr>\n",
       "    <tr>\n",
       "      <th>561697</th>\n",
       "      <td>79X695</td>\n",
       "      <td>20170627</td>\n",
       "      <td>20162017</td>\n",
       "      <td>274</td>\n",
       "      <td>111</td>\n",
       "      <td>42</td>\n",
       "      <td>121</td>\n",
       "    </tr>\n",
       "    <tr>\n",
       "      <th>561698</th>\n",
       "      <td>79X695</td>\n",
       "      <td>20170628</td>\n",
       "      <td>20162017</td>\n",
       "      <td>273</td>\n",
       "      <td>90</td>\n",
       "      <td>56</td>\n",
       "      <td>127</td>\n",
       "    </tr>\n",
       "  </tbody>\n",
       "</table>\n",
       "</div>"
      ],
      "text/plain": [
       "        School      Date  SchoolYear  Enrolled  Present  Absent  Released\n",
       "561696  79X695  20170623    20162017       281      120      38       123\n",
       "561697  79X695  20170627    20162017       274      111      42       121\n",
       "561698  79X695  20170628    20162017       273       90      56       127"
      ]
     },
     "execution_count": 77,
     "metadata": {},
     "output_type": "execute_result"
    }
   ],
   "source": [
    "school.tail(3)"
   ]
  },
  {
   "cell_type": "code",
   "execution_count": 78,
   "metadata": {},
   "outputs": [
    {
     "data": {
      "text/plain": [
       "Index(['School', 'Date', 'SchoolYear', 'Enrolled', 'Present', 'Absent',\n",
       "       'Released'],\n",
       "      dtype='object')"
      ]
     },
     "execution_count": 78,
     "metadata": {},
     "output_type": "execute_result"
    }
   ],
   "source": [
    "school.columns"
   ]
  },
  {
   "cell_type": "code",
   "execution_count": 79,
   "metadata": {},
   "outputs": [
    {
     "data": {
      "text/plain": [
       "3931893"
      ]
     },
     "execution_count": 79,
     "metadata": {},
     "output_type": "execute_result"
    }
   ],
   "source": [
    "school.size"
   ]
  },
  {
   "cell_type": "code",
   "execution_count": 80,
   "metadata": {},
   "outputs": [],
   "source": [
    "school_2c = school[['Enrolled','Absent']]"
   ]
  },
  {
   "cell_type": "code",
   "execution_count": 81,
   "metadata": {},
   "outputs": [
    {
     "data": {
      "text/html": [
       "<div>\n",
       "<table border=\"1\" class=\"dataframe\">\n",
       "  <thead>\n",
       "    <tr style=\"text-align: right;\">\n",
       "      <th></th>\n",
       "      <th>Enrolled</th>\n",
       "      <th>Absent</th>\n",
       "    </tr>\n",
       "  </thead>\n",
       "  <tbody>\n",
       "    <tr>\n",
       "      <th>0</th>\n",
       "      <td>177</td>\n",
       "      <td>18</td>\n",
       "    </tr>\n",
       "    <tr>\n",
       "      <th>1</th>\n",
       "      <td>173</td>\n",
       "      <td>14</td>\n",
       "    </tr>\n",
       "    <tr>\n",
       "      <th>2</th>\n",
       "      <td>174</td>\n",
       "      <td>10</td>\n",
       "    </tr>\n",
       "    <tr>\n",
       "      <th>3</th>\n",
       "      <td>172</td>\n",
       "      <td>13</td>\n",
       "    </tr>\n",
       "    <tr>\n",
       "      <th>4</th>\n",
       "      <td>172</td>\n",
       "      <td>7</td>\n",
       "    </tr>\n",
       "  </tbody>\n",
       "</table>\n",
       "</div>"
      ],
      "text/plain": [
       "   Enrolled  Absent\n",
       "0       177      18\n",
       "1       173      14\n",
       "2       174      10\n",
       "3       172      13\n",
       "4       172       7"
      ]
     },
     "execution_count": 81,
     "metadata": {},
     "output_type": "execute_result"
    }
   ],
   "source": [
    "school_2c.head()"
   ]
  },
  {
   "cell_type": "code",
   "execution_count": 82,
   "metadata": {},
   "outputs": [
    {
     "name": "stdout",
     "output_type": "stream",
     "text": [
      "Populating the interactive namespace from numpy and matplotlib\n"
     ]
    }
   ],
   "source": [
    "%pylab inline"
   ]
  },
  {
   "cell_type": "code",
   "execution_count": 83,
   "metadata": {},
   "outputs": [
    {
     "data": {
      "text/plain": [
       "<matplotlib.axes._subplots.AxesSubplot at 0x7fa904892898>"
      ]
     },
     "execution_count": 83,
     "metadata": {},
     "output_type": "execute_result"
    },
    {
     "data": {
      "image/png": "[encoded data removed]",
      "text/plain": [
       "<matplotlib.figure.Figure at 0x7fa904890c88>"
      ]
     },
     "metadata": {},
     "output_type": "display_data"
    }
   ],
   "source": [
    "school_2c.plot(x=\"Absent\", y=\"Enrolled\", kind='scatter')"
   ]
  },
  {
   "cell_type": "markdown",
   "metadata": {},
   "source": [
    "Figure 1: Number of student absent against number of student enrolled in daily scale from 2015/09/09 to 2017/06/28. These two variables do not display a strong correlation. No matter how many students enrolled each day, the number of student absent are under 500, on average."
   ]
  },
  {
   "cell_type": "code",
   "execution_count": 84,
   "metadata": {},
   "outputs": [],
   "source": [
    "url = \"https://data.cityofnewyork.us/resource/enzt-5z6v.json\""
   ]
  },
  {
   "cell_type": "code",
   "execution_count": 85,
   "metadata": {},
   "outputs": [],
   "source": [
    "df = pd.read_json(url)"
   ]
  },
  {
   "cell_type": "code",
   "execution_count": 86,
   "metadata": {},
   "outputs": [
    {
     "data": {
      "text/html": [
       "<div>\n",
       "<table border=\"1\" class=\"dataframe\">\n",
       "  <thead>\n",
       "    <tr style=\"text-align: right;\">\n",
       "      <th></th>\n",
       "      <th>absent</th>\n",
       "      <th>date</th>\n",
       "      <th>enrolled</th>\n",
       "      <th>present</th>\n",
       "      <th>released</th>\n",
       "      <th>school</th>\n",
       "      <th>schoolyear</th>\n",
       "    </tr>\n",
       "  </thead>\n",
       "  <tbody>\n",
       "    <tr>\n",
       "      <th>0</th>\n",
       "      <td>18</td>\n",
       "      <td>20150909</td>\n",
       "      <td>177</td>\n",
       "      <td>159</td>\n",
       "      <td>0</td>\n",
       "      <td>01M015</td>\n",
       "      <td>20152016</td>\n",
       "    </tr>\n",
       "    <tr>\n",
       "      <th>1</th>\n",
       "      <td>14</td>\n",
       "      <td>20150910</td>\n",
       "      <td>173</td>\n",
       "      <td>159</td>\n",
       "      <td>0</td>\n",
       "      <td>01M015</td>\n",
       "      <td>20152016</td>\n",
       "    </tr>\n",
       "    <tr>\n",
       "      <th>2</th>\n",
       "      <td>10</td>\n",
       "      <td>20150911</td>\n",
       "      <td>174</td>\n",
       "      <td>164</td>\n",
       "      <td>0</td>\n",
       "      <td>01M015</td>\n",
       "      <td>20152016</td>\n",
       "    </tr>\n",
       "  </tbody>\n",
       "</table>\n",
       "</div>"
      ],
      "text/plain": [
       "   absent      date  enrolled  present  released  school  schoolyear\n",
       "0      18  20150909       177      159         0  01M015    20152016\n",
       "1      14  20150910       173      159         0  01M015    20152016\n",
       "2      10  20150911       174      164         0  01M015    20152016"
      ]
     },
     "execution_count": 86,
     "metadata": {},
     "output_type": "execute_result"
    }
   ],
   "source": [
    "df.head(3)"
   ]
  },
  {
   "cell_type": "code",
   "execution_count": 92,
   "metadata": {},
   "outputs": [
    {
     "data": {
      "text/html": [
       "<div>\n",
       "<table border=\"1\" class=\"dataframe\">\n",
       "  <thead>\n",
       "    <tr style=\"text-align: right;\">\n",
       "      <th></th>\n",
       "      <th>absent</th>\n",
       "      <th>date</th>\n",
       "      <th>enrolled</th>\n",
       "    </tr>\n",
       "  </thead>\n",
       "  <tbody>\n",
       "    <tr>\n",
       "      <th>0</th>\n",
       "      <td>18</td>\n",
       "      <td>2015-09-09</td>\n",
       "      <td>177</td>\n",
       "    </tr>\n",
       "    <tr>\n",
       "      <th>1</th>\n",
       "      <td>14</td>\n",
       "      <td>2015-09-10</td>\n",
       "      <td>173</td>\n",
       "    </tr>\n",
       "    <tr>\n",
       "      <th>2</th>\n",
       "      <td>10</td>\n",
       "      <td>2015-09-11</td>\n",
       "      <td>174</td>\n",
       "    </tr>\n",
       "    <tr>\n",
       "      <th>3</th>\n",
       "      <td>13</td>\n",
       "      <td>2015-09-16</td>\n",
       "      <td>172</td>\n",
       "    </tr>\n",
       "    <tr>\n",
       "      <th>4</th>\n",
       "      <td>7</td>\n",
       "      <td>2015-09-17</td>\n",
       "      <td>172</td>\n",
       "    </tr>\n",
       "    <tr>\n",
       "      <th>5</th>\n",
       "      <td>11</td>\n",
       "      <td>2015-09-18</td>\n",
       "      <td>172</td>\n",
       "    </tr>\n",
       "    <tr>\n",
       "      <th>6</th>\n",
       "      <td>12</td>\n",
       "      <td>2015-09-21</td>\n",
       "      <td>172</td>\n",
       "    </tr>\n",
       "    <tr>\n",
       "      <th>7</th>\n",
       "      <td>8</td>\n",
       "      <td>2015-09-22</td>\n",
       "      <td>172</td>\n",
       "    </tr>\n",
       "    <tr>\n",
       "      <th>8</th>\n",
       "      <td>18</td>\n",
       "      <td>2015-09-25</td>\n",
       "      <td>175</td>\n",
       "    </tr>\n",
       "    <tr>\n",
       "      <th>9</th>\n",
       "      <td>4</td>\n",
       "      <td>2015-09-28</td>\n",
       "      <td>175</td>\n",
       "    </tr>\n",
       "    <tr>\n",
       "      <th>10</th>\n",
       "      <td>4</td>\n",
       "      <td>2015-09-29</td>\n",
       "      <td>175</td>\n",
       "    </tr>\n",
       "    <tr>\n",
       "      <th>11</th>\n",
       "      <td>7</td>\n",
       "      <td>2015-09-30</td>\n",
       "      <td>175</td>\n",
       "    </tr>\n",
       "    <tr>\n",
       "      <th>12</th>\n",
       "      <td>2</td>\n",
       "      <td>2015-10-01</td>\n",
       "      <td>175</td>\n",
       "    </tr>\n",
       "    <tr>\n",
       "      <th>13</th>\n",
       "      <td>15</td>\n",
       "      <td>2015-10-02</td>\n",
       "      <td>175</td>\n",
       "    </tr>\n",
       "    <tr>\n",
       "      <th>14</th>\n",
       "      <td>4</td>\n",
       "      <td>2015-10-05</td>\n",
       "      <td>175</td>\n",
       "    </tr>\n",
       "    <tr>\n",
       "      <th>15</th>\n",
       "      <td>8</td>\n",
       "      <td>2015-10-06</td>\n",
       "      <td>175</td>\n",
       "    </tr>\n",
       "    <tr>\n",
       "      <th>16</th>\n",
       "      <td>4</td>\n",
       "      <td>2015-10-07</td>\n",
       "      <td>175</td>\n",
       "    </tr>\n",
       "    <tr>\n",
       "      <th>17</th>\n",
       "      <td>9</td>\n",
       "      <td>2015-10-08</td>\n",
       "      <td>175</td>\n",
       "    </tr>\n",
       "    <tr>\n",
       "      <th>18</th>\n",
       "      <td>4</td>\n",
       "      <td>2015-10-09</td>\n",
       "      <td>176</td>\n",
       "    </tr>\n",
       "    <tr>\n",
       "      <th>19</th>\n",
       "      <td>5</td>\n",
       "      <td>2015-10-13</td>\n",
       "      <td>176</td>\n",
       "    </tr>\n",
       "    <tr>\n",
       "      <th>20</th>\n",
       "      <td>7</td>\n",
       "      <td>2015-10-14</td>\n",
       "      <td>176</td>\n",
       "    </tr>\n",
       "    <tr>\n",
       "      <th>21</th>\n",
       "      <td>4</td>\n",
       "      <td>2015-10-15</td>\n",
       "      <td>176</td>\n",
       "    </tr>\n",
       "    <tr>\n",
       "      <th>22</th>\n",
       "      <td>15</td>\n",
       "      <td>2015-10-16</td>\n",
       "      <td>176</td>\n",
       "    </tr>\n",
       "    <tr>\n",
       "      <th>23</th>\n",
       "      <td>12</td>\n",
       "      <td>2015-10-19</td>\n",
       "      <td>176</td>\n",
       "    </tr>\n",
       "    <tr>\n",
       "      <th>24</th>\n",
       "      <td>14</td>\n",
       "      <td>2015-10-20</td>\n",
       "      <td>176</td>\n",
       "    </tr>\n",
       "    <tr>\n",
       "      <th>25</th>\n",
       "      <td>5</td>\n",
       "      <td>2015-10-21</td>\n",
       "      <td>176</td>\n",
       "    </tr>\n",
       "    <tr>\n",
       "      <th>26</th>\n",
       "      <td>6</td>\n",
       "      <td>2015-10-22</td>\n",
       "      <td>176</td>\n",
       "    </tr>\n",
       "    <tr>\n",
       "      <th>27</th>\n",
       "      <td>7</td>\n",
       "      <td>2015-10-23</td>\n",
       "      <td>176</td>\n",
       "    </tr>\n",
       "    <tr>\n",
       "      <th>28</th>\n",
       "      <td>10</td>\n",
       "      <td>2015-10-26</td>\n",
       "      <td>176</td>\n",
       "    </tr>\n",
       "    <tr>\n",
       "      <th>29</th>\n",
       "      <td>11</td>\n",
       "      <td>2015-10-27</td>\n",
       "      <td>176</td>\n",
       "    </tr>\n",
       "    <tr>\n",
       "      <th>...</th>\n",
       "      <td>...</td>\n",
       "      <td>...</td>\n",
       "      <td>...</td>\n",
       "    </tr>\n",
       "    <tr>\n",
       "      <th>970</th>\n",
       "      <td>32</td>\n",
       "      <td>2017-01-26</td>\n",
       "      <td>541</td>\n",
       "    </tr>\n",
       "    <tr>\n",
       "      <th>971</th>\n",
       "      <td>41</td>\n",
       "      <td>2017-01-27</td>\n",
       "      <td>541</td>\n",
       "    </tr>\n",
       "    <tr>\n",
       "      <th>972</th>\n",
       "      <td>40</td>\n",
       "      <td>2017-01-30</td>\n",
       "      <td>541</td>\n",
       "    </tr>\n",
       "    <tr>\n",
       "      <th>973</th>\n",
       "      <td>26</td>\n",
       "      <td>2017-01-31</td>\n",
       "      <td>542</td>\n",
       "    </tr>\n",
       "    <tr>\n",
       "      <th>974</th>\n",
       "      <td>36</td>\n",
       "      <td>2017-02-01</td>\n",
       "      <td>542</td>\n",
       "    </tr>\n",
       "    <tr>\n",
       "      <th>975</th>\n",
       "      <td>46</td>\n",
       "      <td>2017-02-02</td>\n",
       "      <td>542</td>\n",
       "    </tr>\n",
       "    <tr>\n",
       "      <th>976</th>\n",
       "      <td>33</td>\n",
       "      <td>2017-02-03</td>\n",
       "      <td>543</td>\n",
       "    </tr>\n",
       "    <tr>\n",
       "      <th>977</th>\n",
       "      <td>37</td>\n",
       "      <td>2017-02-06</td>\n",
       "      <td>544</td>\n",
       "    </tr>\n",
       "    <tr>\n",
       "      <th>978</th>\n",
       "      <td>33</td>\n",
       "      <td>2017-02-07</td>\n",
       "      <td>542</td>\n",
       "    </tr>\n",
       "    <tr>\n",
       "      <th>979</th>\n",
       "      <td>39</td>\n",
       "      <td>2017-02-08</td>\n",
       "      <td>542</td>\n",
       "    </tr>\n",
       "    <tr>\n",
       "      <th>980</th>\n",
       "      <td>91</td>\n",
       "      <td>2017-02-10</td>\n",
       "      <td>543</td>\n",
       "    </tr>\n",
       "    <tr>\n",
       "      <th>981</th>\n",
       "      <td>38</td>\n",
       "      <td>2017-02-13</td>\n",
       "      <td>543</td>\n",
       "    </tr>\n",
       "    <tr>\n",
       "      <th>982</th>\n",
       "      <td>35</td>\n",
       "      <td>2017-02-14</td>\n",
       "      <td>544</td>\n",
       "    </tr>\n",
       "    <tr>\n",
       "      <th>983</th>\n",
       "      <td>42</td>\n",
       "      <td>2017-02-15</td>\n",
       "      <td>545</td>\n",
       "    </tr>\n",
       "    <tr>\n",
       "      <th>984</th>\n",
       "      <td>31</td>\n",
       "      <td>2017-02-16</td>\n",
       "      <td>545</td>\n",
       "    </tr>\n",
       "    <tr>\n",
       "      <th>985</th>\n",
       "      <td>55</td>\n",
       "      <td>2017-02-17</td>\n",
       "      <td>545</td>\n",
       "    </tr>\n",
       "    <tr>\n",
       "      <th>986</th>\n",
       "      <td>34</td>\n",
       "      <td>2017-02-27</td>\n",
       "      <td>545</td>\n",
       "    </tr>\n",
       "    <tr>\n",
       "      <th>987</th>\n",
       "      <td>24</td>\n",
       "      <td>2017-02-28</td>\n",
       "      <td>543</td>\n",
       "    </tr>\n",
       "    <tr>\n",
       "      <th>988</th>\n",
       "      <td>40</td>\n",
       "      <td>2017-03-01</td>\n",
       "      <td>543</td>\n",
       "    </tr>\n",
       "    <tr>\n",
       "      <th>989</th>\n",
       "      <td>31</td>\n",
       "      <td>2017-03-02</td>\n",
       "      <td>543</td>\n",
       "    </tr>\n",
       "    <tr>\n",
       "      <th>990</th>\n",
       "      <td>34</td>\n",
       "      <td>2017-03-03</td>\n",
       "      <td>543</td>\n",
       "    </tr>\n",
       "    <tr>\n",
       "      <th>991</th>\n",
       "      <td>25</td>\n",
       "      <td>2017-03-06</td>\n",
       "      <td>541</td>\n",
       "    </tr>\n",
       "    <tr>\n",
       "      <th>992</th>\n",
       "      <td>21</td>\n",
       "      <td>2017-03-07</td>\n",
       "      <td>541</td>\n",
       "    </tr>\n",
       "    <tr>\n",
       "      <th>993</th>\n",
       "      <td>17</td>\n",
       "      <td>2017-03-08</td>\n",
       "      <td>541</td>\n",
       "    </tr>\n",
       "    <tr>\n",
       "      <th>994</th>\n",
       "      <td>93</td>\n",
       "      <td>2017-03-09</td>\n",
       "      <td>541</td>\n",
       "    </tr>\n",
       "    <tr>\n",
       "      <th>995</th>\n",
       "      <td>50</td>\n",
       "      <td>2017-03-10</td>\n",
       "      <td>542</td>\n",
       "    </tr>\n",
       "    <tr>\n",
       "      <th>996</th>\n",
       "      <td>45</td>\n",
       "      <td>2017-03-13</td>\n",
       "      <td>542</td>\n",
       "    </tr>\n",
       "    <tr>\n",
       "      <th>997</th>\n",
       "      <td>82</td>\n",
       "      <td>2017-03-15</td>\n",
       "      <td>542</td>\n",
       "    </tr>\n",
       "    <tr>\n",
       "      <th>998</th>\n",
       "      <td>22</td>\n",
       "      <td>2017-03-16</td>\n",
       "      <td>542</td>\n",
       "    </tr>\n",
       "    <tr>\n",
       "      <th>999</th>\n",
       "      <td>42</td>\n",
       "      <td>2017-03-17</td>\n",
       "      <td>542</td>\n",
       "    </tr>\n",
       "  </tbody>\n",
       "</table>\n",
       "<p>1000 rows × 3 columns</p>\n",
       "</div>"
      ],
      "text/plain": [
       "     absent       date  enrolled\n",
       "0        18 2015-09-09       177\n",
       "1        14 2015-09-10       173\n",
       "2        10 2015-09-11       174\n",
       "3        13 2015-09-16       172\n",
       "4         7 2015-09-17       172\n",
       "5        11 2015-09-18       172\n",
       "6        12 2015-09-21       172\n",
       "7         8 2015-09-22       172\n",
       "8        18 2015-09-25       175\n",
       "9         4 2015-09-28       175\n",
       "10        4 2015-09-29       175\n",
       "11        7 2015-09-30       175\n",
       "12        2 2015-10-01       175\n",
       "13       15 2015-10-02       175\n",
       "14        4 2015-10-05       175\n",
       "15        8 2015-10-06       175\n",
       "16        4 2015-10-07       175\n",
       "17        9 2015-10-08       175\n",
       "18        4 2015-10-09       176\n",
       "19        5 2015-10-13       176\n",
       "20        7 2015-10-14       176\n",
       "21        4 2015-10-15       176\n",
       "22       15 2015-10-16       176\n",
       "23       12 2015-10-19       176\n",
       "24       14 2015-10-20       176\n",
       "25        5 2015-10-21       176\n",
       "26        6 2015-10-22       176\n",
       "27        7 2015-10-23       176\n",
       "28       10 2015-10-26       176\n",
       "29       11 2015-10-27       176\n",
       "..      ...        ...       ...\n",
       "970      32 2017-01-26       541\n",
       "971      41 2017-01-27       541\n",
       "972      40 2017-01-30       541\n",
       "973      26 2017-01-31       542\n",
       "974      36 2017-02-01       542\n",
       "975      46 2017-02-02       542\n",
       "976      33 2017-02-03       543\n",
       "977      37 2017-02-06       544\n",
       "978      33 2017-02-07       542\n",
       "979      39 2017-02-08       542\n",
       "980      91 2017-02-10       543\n",
       "981      38 2017-02-13       543\n",
       "982      35 2017-02-14       544\n",
       "983      42 2017-02-15       545\n",
       "984      31 2017-02-16       545\n",
       "985      55 2017-02-17       545\n",
       "986      34 2017-02-27       545\n",
       "987      24 2017-02-28       543\n",
       "988      40 2017-03-01       543\n",
       "989      31 2017-03-02       543\n",
       "990      34 2017-03-03       543\n",
       "991      25 2017-03-06       541\n",
       "992      21 2017-03-07       541\n",
       "993      17 2017-03-08       541\n",
       "994      93 2017-03-09       541\n",
       "995      50 2017-03-10       542\n",
       "996      45 2017-03-13       542\n",
       "997      82 2017-03-15       542\n",
       "998      22 2017-03-16       542\n",
       "999      42 2017-03-17       542\n",
       "\n",
       "[1000 rows x 3 columns]"
      ]
     },
     "execution_count": 92,
     "metadata": {},
     "output_type": "execute_result"
    }
   ],
   "source": [
    "df.drop(['present','released','school','schoolyear'],axis=1)"
   ]
  },
  {
   "cell_type": "code",
   "execution_count": 88,
   "metadata": {},
   "outputs": [],
   "source": [
    "df[\"date\"]=df[\"date\"].apply(lambda x: pd.to_datetime(x,format='%Y%m%d'))"
   ]
  },
  {
   "cell_type": "code",
   "execution_count": 98,
   "metadata": {},
   "outputs": [
    {
     "data": {
      "text/plain": [
       "Text(0,0.5,'Number')"
      ]
     },
     "execution_count": 98,
     "metadata": {},
     "output_type": "execute_result"
    },
    {
     "data": {
      "image/png": "[encoded data removed]",
      "text/plain": [
       "<matplotlib.figure.Figure at 0x7fa8fb3ec940>"
      ]
     },
     "metadata": {},
     "output_type": "display_data"
    }
   ],
   "source": [
    "ax = df.plot(x='date', y='enrolled');\n",
    "ax.set_ylabel(\"Number\")"
   ]
  },
  {
   "cell_type": "markdown",
   "metadata": {},
   "source": [
    "Figure 2: number of student enrolled each day as a function of time between 2015/09/09 to 2017/03/17. No significant trend observed. Note that after March 2017, the number of student enrolled each day declined siginificantly."
   ]
  },
  {
   "cell_type": "code",
   "execution_count": 97,
   "metadata": {},
   "outputs": [
    {
     "data": {
      "text/plain": [
       "Text(0,0.5,'Number')"
      ]
     },
     "execution_count": 97,
     "metadata": {},
     "output_type": "execute_result"
    },
    {
     "data": {
      "image/png": "[encoded data removed]",
      "text/plain": [
       "<matplotlib.figure.Figure at 0x7fa8fb40acf8>"
      ]
     },
     "metadata": {},
     "output_type": "display_data"
    }
   ],
   "source": [
    "ax = df.plot(x='date', y='absent')\n",
    "ax.set_ylabel(\"Number\")"
   ]
  },
  {
   "cell_type": "markdown",
   "metadata": {},
   "source": [
    "Figure 3: number of student absent each day as a function of time bewteen 2015/09/09 to 2017/03/17. No significant trend observed. Note that between July 2016 to September 2016, the number of absent student kept nearly the same."
   ]
  },
  {
   "cell_type": "code",
   "execution_count": null,
   "metadata": {},
   "outputs": [],
   "source": []
  }
 ],
 "metadata": {
  "kernelspec": {
   "display_name": "PUI2016_Python3",
   "language": "python",
   "name": "pui2016_python3"
  },
  "language_info": {
   "codemirror_mode": {
    "name": "ipython",
    "version": 3
   },
   "file_extension": ".py",
   "mimetype": "text/x-python",
   "name": "python",
   "nbconvert_exporter": "python",
   "pygments_lexer": "ipython3",
   "version": "3.5.4"
  }
 },
 "nbformat": 4,
 "nbformat_minor": 2
}
